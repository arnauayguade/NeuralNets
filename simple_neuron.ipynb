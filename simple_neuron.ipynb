{
  "nbformat": 4,
  "nbformat_minor": 0,
  "metadata": {
    "colab": {
      "name": "simple neuron.ipynb",
      "provenance": [],
      "collapsed_sections": []
    },
    "kernelspec": {
      "name": "python3",
      "display_name": "Python 3"
    },
    "language_info": {
      "name": "python"
    },
    "accelerator": "GPU"
  },
  "cells": [
    {
      "cell_type": "markdown",
      "metadata": {
        "id": "UVULEtuifXNZ"
      },
      "source": [
        "#Código Python para implementar una neurona simple\n",
        "\n",
        "Treball de Recerca d'Arnau Ayguadé. Institut Front Marítim. Barcelona"
      ]
    },
    {
      "cell_type": "markdown",
      "metadata": {
        "id": "0XTYzy3YxLWn"
      },
      "source": [
        "\n",
        "##1. Definición del dataset (atributos y etiquetas) i parametros de la neurona (W1, W2 y bias) i aprendizaje (learning_rate)"
      ]
    },
    {
      "cell_type": "code",
      "metadata": {
        "id": "RcxWDPcP_uL8"
      },
      "source": [
        "import numpy as np\n",
        "\n",
        "data = np.array([[ 0.0,  0.7],\n",
        "                 [-0.3, -0.5],\n",
        "                 [ 3.0,  0.1],\n",
        "                 [-0.1, -1.0],\n",
        "                 [-1.0,  1.1],\n",
        "                 [ 2.1, -3.0]])\n",
        "labels = np.array([ 1, \n",
        "                   -1,\n",
        "                    1,\n",
        "                   -1,\n",
        "                   -1,\n",
        "                    1])\n",
        "\n",
        "#valores iniciales para los pesos\n",
        "W1, W2, bias = 1, -2, -1\n",
        "learning_rate = 0.005"
      ],
      "execution_count": null,
      "outputs": []
    },
    {
      "cell_type": "markdown",
      "metadata": {
        "id": "t87pTj0ufLvY"
      },
      "source": [
        "##2. Código para hacer el test de la neurona con el dataset:"
      ]
    },
    {
      "cell_type": "code",
      "metadata": {
        "id": "BlBHciUT3LTL"
      },
      "source": [
        "def comprobacion(data, labels):\n",
        "  num_correctos=0\n",
        "  for i in range(data.shape[0]):\n",
        "    y = W1 * data[i][0] + W2 * data[i][1] + bias\n",
        "    if (y<0):\n",
        "      z=-1\n",
        "    else:\n",
        "      z=1\n",
        "    if(z==labels[i]):\n",
        "      num_correctos = num_correctos + 1 \n",
        "\n",
        "  print(\"El percentage de acierto es del \" , (num_correctos / data.shape[0])*100)"
      ],
      "execution_count": null,
      "outputs": []
    },
    {
      "cell_type": "markdown",
      "metadata": {
        "id": "XtdHy1asfSsa"
      },
      "source": [
        "##3. Código para hacer el entrenamiento de la neurona con el dataset:"
      ]
    },
    {
      "cell_type": "code",
      "metadata": {
        "colab": {
          "base_uri": "https://localhost:8080/"
        },
        "id": "FLU4GjWj9G_7",
        "outputId": "aac053e3-5a7a-4882-a092-4113d9f0df4d"
      },
      "source": [
        "for epochs in range(100):\n",
        "  for i in range(data.shape[0]):\n",
        "    y = W1 * data[i][0] + W2 * data[i][1] + bias\n",
        "    if (y<0):\n",
        "      z=-1\n",
        "    else:\n",
        "      z=1\n",
        "    if(z!=labels[i]):\n",
        "      if((z==1) and (labels[i]==-1)):\n",
        "        signe = -1\n",
        "      if((z==-1) and (labels[i]==1)):\n",
        "        signe = 1\n",
        "    else:\n",
        "      signe = 0\n",
        "    W1 = W1 + signe * data[i][0] * learning_rate\n",
        "    W2 = W2 + signe * data[i][1] * learning_rate\n",
        "    bias = bias + signe * 1 * learning_rate\n",
        "    \n",
        "  comprobacion(data, labels)"
      ],
      "execution_count": null,
      "outputs": [
        {
          "output_type": "stream",
          "name": "stdout",
          "text": [
            "El percentage de acierto es del  66.66666666666666\n",
            "El percentage de acierto es del  66.66666666666666\n",
            "El percentage de acierto es del  66.66666666666666\n",
            "El percentage de acierto es del  66.66666666666666\n",
            "El percentage de acierto es del  66.66666666666666\n",
            "El percentage de acierto es del  66.66666666666666\n",
            "El percentage de acierto es del  66.66666666666666\n",
            "El percentage de acierto es del  66.66666666666666\n",
            "El percentage de acierto es del  66.66666666666666\n",
            "El percentage de acierto es del  66.66666666666666\n",
            "El percentage de acierto es del  66.66666666666666\n",
            "El percentage de acierto es del  66.66666666666666\n",
            "El percentage de acierto es del  66.66666666666666\n",
            "El percentage de acierto es del  66.66666666666666\n",
            "El percentage de acierto es del  66.66666666666666\n",
            "El percentage de acierto es del  66.66666666666666\n",
            "El percentage de acierto es del  66.66666666666666\n",
            "El percentage de acierto es del  66.66666666666666\n",
            "El percentage de acierto es del  66.66666666666666\n",
            "El percentage de acierto es del  66.66666666666666\n",
            "El percentage de acierto es del  66.66666666666666\n",
            "El percentage de acierto es del  66.66666666666666\n",
            "El percentage de acierto es del  66.66666666666666\n",
            "El percentage de acierto es del  66.66666666666666\n",
            "El percentage de acierto es del  66.66666666666666\n",
            "El percentage de acierto es del  66.66666666666666\n",
            "El percentage de acierto es del  66.66666666666666\n",
            "El percentage de acierto es del  66.66666666666666\n",
            "El percentage de acierto es del  66.66666666666666\n",
            "El percentage de acierto es del  66.66666666666666\n",
            "El percentage de acierto es del  66.66666666666666\n",
            "El percentage de acierto es del  66.66666666666666\n",
            "El percentage de acierto es del  66.66666666666666\n",
            "El percentage de acierto es del  66.66666666666666\n",
            "El percentage de acierto es del  66.66666666666666\n",
            "El percentage de acierto es del  66.66666666666666\n",
            "El percentage de acierto es del  66.66666666666666\n",
            "El percentage de acierto es del  66.66666666666666\n",
            "El percentage de acierto es del  66.66666666666666\n",
            "El percentage de acierto es del  66.66666666666666\n",
            "El percentage de acierto es del  66.66666666666666\n",
            "El percentage de acierto es del  66.66666666666666\n",
            "El percentage de acierto es del  66.66666666666666\n",
            "El percentage de acierto es del  66.66666666666666\n",
            "El percentage de acierto es del  66.66666666666666\n",
            "El percentage de acierto es del  66.66666666666666\n",
            "El percentage de acierto es del  66.66666666666666\n",
            "El percentage de acierto es del  66.66666666666666\n",
            "El percentage de acierto es del  66.66666666666666\n",
            "El percentage de acierto es del  66.66666666666666\n",
            "El percentage de acierto es del  66.66666666666666\n",
            "El percentage de acierto es del  66.66666666666666\n",
            "El percentage de acierto es del  66.66666666666666\n",
            "El percentage de acierto es del  66.66666666666666\n",
            "El percentage de acierto es del  66.66666666666666\n",
            "El percentage de acierto es del  66.66666666666666\n",
            "El percentage de acierto es del  66.66666666666666\n",
            "El percentage de acierto es del  66.66666666666666\n",
            "El percentage de acierto es del  66.66666666666666\n",
            "El percentage de acierto es del  66.66666666666666\n",
            "El percentage de acierto es del  66.66666666666666\n",
            "El percentage de acierto es del  66.66666666666666\n",
            "El percentage de acierto es del  66.66666666666666\n",
            "El percentage de acierto es del  66.66666666666666\n",
            "El percentage de acierto es del  66.66666666666666\n",
            "El percentage de acierto es del  66.66666666666666\n",
            "El percentage de acierto es del  66.66666666666666\n",
            "El percentage de acierto es del  66.66666666666666\n",
            "El percentage de acierto es del  66.66666666666666\n",
            "El percentage de acierto es del  66.66666666666666\n",
            "El percentage de acierto es del  66.66666666666666\n",
            "El percentage de acierto es del  66.66666666666666\n",
            "El percentage de acierto es del  66.66666666666666\n",
            "El percentage de acierto es del  66.66666666666666\n",
            "El percentage de acierto es del  66.66666666666666\n",
            "El percentage de acierto es del  66.66666666666666\n",
            "El percentage de acierto es del  66.66666666666666\n",
            "El percentage de acierto es del  66.66666666666666\n",
            "El percentage de acierto es del  66.66666666666666\n",
            "El percentage de acierto es del  66.66666666666666\n",
            "El percentage de acierto es del  66.66666666666666\n",
            "El percentage de acierto es del  66.66666666666666\n",
            "El percentage de acierto es del  66.66666666666666\n",
            "El percentage de acierto es del  66.66666666666666\n",
            "El percentage de acierto es del  66.66666666666666\n",
            "El percentage de acierto es del  66.66666666666666\n",
            "El percentage de acierto es del  66.66666666666666\n",
            "El percentage de acierto es del  66.66666666666666\n",
            "El percentage de acierto es del  66.66666666666666\n",
            "El percentage de acierto es del  66.66666666666666\n",
            "El percentage de acierto es del  66.66666666666666\n",
            "El percentage de acierto es del  66.66666666666666\n",
            "El percentage de acierto es del  66.66666666666666\n",
            "El percentage de acierto es del  66.66666666666666\n",
            "El percentage de acierto es del  66.66666666666666\n",
            "El percentage de acierto es del  66.66666666666666\n",
            "El percentage de acierto es del  66.66666666666666\n",
            "El percentage de acierto es del  66.66666666666666\n",
            "El percentage de acierto es del  66.66666666666666\n",
            "El percentage de acierto es del  66.66666666666666\n"
          ]
        }
      ]
    },
    {
      "cell_type": "markdown",
      "metadata": {
        "id": "nag8HC0ne3U-"
      },
      "source": [
        "##4. Visualizar por pantalla los valores actuales de W1, W2 y bias:"
      ]
    },
    {
      "cell_type": "code",
      "metadata": {
        "colab": {
          "base_uri": "https://localhost:8080/"
        },
        "id": "uXjidcXo80lG",
        "outputId": "c1264b04-9cf5-428e-aae3-e1379160bfba"
      },
      "source": [
        "print(W1, W2, bias)"
      ],
      "execution_count": null,
      "outputs": [
        {
          "output_type": "stream",
          "name": "stdout",
          "text": [
            "1.0499999999999945 -1.1500000000000048 -1.0\n"
          ]
        }
      ]
    },
    {
      "cell_type": "markdown",
      "metadata": {
        "id": "sRMswL49fAJi"
      },
      "source": [
        "##5. Visualizar por pantalla espacio de datos y función de la neurona:"
      ]
    },
    {
      "cell_type": "code",
      "metadata": {
        "colab": {
          "base_uri": "https://localhost:8080/",
          "height": 340
        },
        "id": "87_UakRNkf1D",
        "outputId": "1f94c530-1a69-4275-efae-3fabe271b1ec"
      },
      "source": [
        "import matplotlib.pyplot as plt\n",
        "\n",
        "def plot_data(data, labels):\n",
        "  fig = plt.figure(figsize=(5,5))\n",
        "  ax = fig.add_subplot(111)\n",
        "  ax.scatter(data[:,0], data[:,1], c=labels, s=50, cmap=plt.cm.bwr, zorder=50)\n",
        "  nudge = 0.08\n",
        "  for i in range(data.shape[0]):\n",
        "    d = data[i]\n",
        "    ax.annotate(f'{i}', (d[0]+nudge, d[1]+nudge))\n",
        "  ax.set_aspect('equal', 'datalim')\n",
        "  plt.show()\n",
        "\n",
        "def create_meshgrid(data):\n",
        "  h=0.02\n",
        "  x_min, x_max = data[:,0].min() - 1, data[:,0].max() + 1\n",
        "  y_min, y_max = data[:,1].min() - 1, data[:,1].max() + 1\n",
        "  xx, yy = np.meshgrid(np.arange(x_min, x_max, h), np.arange(y_min, y_max, h))\n",
        "  return (xx, yy, np.ones(xx.shape))\n",
        "\n",
        "def plot_learning(grid, data, W1, W2, bias):\n",
        "  xx, yy, Z = grid\n",
        "  for i in range(xx.shape[0]):\n",
        "    for j in range(yy.shape[1]):\n",
        "      X, Y = xx[i][j], yy[i][j]\n",
        "      output = W1 * X + W2 * Y + bias\n",
        "      output = 1 if output > 0 else -1\n",
        "      Z[i][j] = output\n",
        "\n",
        "  fig = plt.figure(figsize=(5,5))\n",
        "  ax = fig.add_subplot(111)\n",
        "  ax.contourf(xx, yy, Z, cmap=plt.cm.binary, alpha=0.1, zorder=15)\n",
        "  ax.scatter(data[:,0], data[:,1], c=labels, s=50, cmap=plt.cm.bwr, zorder=50)\n",
        "  ax.set_aspect('equal')\n",
        "  nudge = 0.08\n",
        "  for i in range(data.shape[0]):\n",
        "    d = data[i]\n",
        "    ax.annotate(f'{i}', (d[0]+nudge, d[1]+nudge))\n",
        "  plt.xlim(xx.min(), xx.max())\n",
        "  plt.ylim(yy.min(), yy.max())\n",
        "  plt.show()\n",
        "\n",
        "grid = create_meshgrid(data)\n",
        "plot_learning(grid, data, W1, W2, bias)"
      ],
      "execution_count": null,
      "outputs": [
        {
          "output_type": "display_data",
          "data": {
            "image/png": "[encoded data removed]",
            "text/plain": [
              "<Figure size 360x360 with 1 Axes>"
            ]
          },
          "metadata": {
            "needs_background": "light"
          }
        }
      ]
    }
  ]
}