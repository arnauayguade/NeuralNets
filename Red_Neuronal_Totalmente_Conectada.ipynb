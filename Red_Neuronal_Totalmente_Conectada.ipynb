{
  "nbformat": 4,
  "nbformat_minor": 0,
  "metadata": {
    "colab": {
      "name": "Red Neuronal Totalmente Conectada",
      "provenance": [],
      "collapsed_sections": [
        "p_6zyoOJ1lHu"
      ]
    },
    "kernelspec": {
      "display_name": "Python 3",
      "name": "python3"
    },
    "accelerator": "GPU"
  },
  "cells": [
    {
      "cell_type": "markdown",
      "metadata": {
        "id": "FKNAOn5Ia7pG"
      },
      "source": [
        "\n",
        "# **Red neuronal totalmente conectada MNIST en Keras**\n",
        "Inspirado en [**Python Deep Learning** Introducción práctica con Keras y TensorFlow 2. Jordi Torres. Editorial Marcombo ISBN: 9788426728289 ](https://www.marcombo.com/python-deep-learning-9788426728289/).\n",
        "\n",
        "Treball de Recerca d'Arnau Ayguadé. Institut Front Marítim. Barcelona"
      ]
    },
    {
      "cell_type": "code",
      "metadata": {
        "id": "VcFrOCQOYU1R"
      },
      "source": [
        "import tensorflow as tf\n",
        "from tensorflow import keras\n",
        "from tensorflow.keras import datasets"
      ],
      "execution_count": null,
      "outputs": []
    },
    {
      "cell_type": "markdown",
      "metadata": {
        "id": "eo_CA0gPbU0v"
      },
      "source": [
        "## 1. Carga de los datos de MNIST"
      ]
    },
    {
      "cell_type": "markdown",
      "metadata": {
        "id": "Azxh9k_ML5mL"
      },
      "source": [
        "Primero vamos a cargar los datos de entrada de mnist"
      ]
    },
    {
      "cell_type": "code",
      "metadata": {
        "id": "KbWbSbpgbR2P",
        "colab": {
          "base_uri": "https://localhost:8080/"
        },
        "outputId": "066ecc41-e5ca-445e-80f6-e28333ec0a71"
      },
      "source": [
        "mnist = datasets.mnist\n",
        "\n",
        "(xo_train, yo_train), (xo_test, yo_test) = mnist.load_data()"
      ],
      "execution_count": null,
      "outputs": [
        {
          "output_type": "stream",
          "name": "stdout",
          "text": [
            "Downloading data from https://storage.googleapis.com/tensorflow/tf-keras-datasets/mnist.npz\n",
            "11493376/11490434 [==============================] - 0s 0us/step\n",
            "11501568/11490434 [==============================] - 0s 0us/step\n"
          ]
        }
      ]
    },
    {
      "cell_type": "markdown",
      "metadata": {
        "id": "xKDkG9EP_EjX"
      },
      "source": [
        "Para poder hacer el estudio de la influencia del tamaño del dataset, las siguientes lineas se quedan con un subconjunto del dataset original (xo_, yo_) con trainsize elementos a utilizar para el entrenamiento y testsize elementos para la validacion:"
      ]
    },
    {
      "cell_type": "code",
      "metadata": {
        "id": "EOHI8mMQ_T2-"
      },
      "source": [
        "trainsize = 60000\n",
        "testsize  = 10000 \n",
        "x_train = xo_train[0:trainsize]\n",
        "x_test  = xo_test[0:testsize]\n",
        "\n",
        "y_train = yo_train[0:trainsize]\n",
        "y_test  = yo_test[0:testsize]"
      ],
      "execution_count": null,
      "outputs": []
    },
    {
      "cell_type": "markdown",
      "metadata": {
        "id": "H4SaP6qOctI8"
      },
      "source": [
        "## 2. Preprocesado de datos de MNIST para una red neuronal"
      ]
    },
    {
      "cell_type": "markdown",
      "metadata": {
        "id": "Ty1R3nW8FjZ_"
      },
      "source": [
        "Para normalizar las muestras de entrada dividimos cada valor por el maximo (255), obteniendo asi datos en el rango 0 y 1 (como numeros reales en 32 bits). A continuación se convertiran de forma 2D a 1D (vector de 28x28 atributos, es decir, 784) para poder ser usados en nuestra red fully connected. "
      ]
    },
    {
      "cell_type": "code",
      "metadata": {
        "id": "lt3GCRmjcjDW"
      },
      "source": [
        "x_train = x_train.astype('float32')\n",
        "x_test = x_test.astype('float32')\n",
        "\n",
        "x_train /= 255\n",
        "x_test /= 255\n",
        "\n",
        "x_train = x_train.reshape(trainsize, 784)\n",
        "x_test = x_test.reshape(testsize, 784)"
      ],
      "execution_count": null,
      "outputs": []
    },
    {
      "cell_type": "markdown",
      "metadata": {
        "id": "_caoFCKVHLfP"
      },
      "source": [
        "En cuanto a las etiquetas de salida, la transformación que realizaremos es convertirlas en un vector de categorias, con 10 posibles categorias. Cada muestra tendra activa una unica categoria, la que corresponde al valor de la etiqueta:"
      ]
    },
    {
      "cell_type": "code",
      "metadata": {
        "id": "AHZW1B1_dXLz"
      },
      "source": [
        "from tensorflow.keras.utils import to_categorical\n",
        "\n",
        "y_train = to_categorical(y_train, num_classes=10)\n",
        "y_test = to_categorical(y_test, num_classes=10)"
      ],
      "execution_count": null,
      "outputs": []
    },
    {
      "cell_type": "markdown",
      "metadata": {
        "id": "ELTiOpK5eMNJ"
      },
      "source": [
        "## 3. Definición del modelo"
      ]
    },
    {
      "cell_type": "code",
      "metadata": {
        "id": "EjwjDIuXeS_s"
      },
      "source": [
        "from tensorflow.keras import Sequential\n",
        "from tensorflow.keras.layers import Dense # totalmente concectadas\n",
        "\n",
        "model = Sequential()\n",
        "model.add(Dense(10, activation='sigmoid', input_shape=(784,)))\n",
        "model.add(Dense(10, activation='softmax'))\n",
        "#model.add(Dense(10, activation='softmax', input_shape=(784,)))"
      ],
      "execution_count": null,
      "outputs": []
    },
    {
      "cell_type": "markdown",
      "metadata": {
        "id": "kCIuBbYsi1MU"
      },
      "source": [
        "Aqui se podrian hacer varias pruebas cambiando el numero de neuronas en la primera capa (por ejemplo: 10, 32, 64, 128, 256, 512) y ver como afecta al comportamiento del modelo tanto en el entrenamiento como en la prediccion. Tambien ver como afecta el uso de distintas funciones de activacion: sigmoid, relu, ... Incluso podria analizarse el uso de una capa adiocional."
      ]
    },
    {
      "cell_type": "code",
      "metadata": {
        "colab": {
          "base_uri": "https://localhost:8080/"
        },
        "id": "vJLHWHNueTZH",
        "outputId": "f62686bd-32bb-4bca-839b-8098ac1a593e"
      },
      "source": [
        "model.summary()"
      ],
      "execution_count": null,
      "outputs": [
        {
          "output_type": "stream",
          "name": "stdout",
          "text": [
            "Model: \"sequential\"\n",
            "_________________________________________________________________\n",
            " Layer (type)                Output Shape              Param #   \n",
            "=================================================================\n",
            " dense (Dense)               (None, 10)                7850      \n",
            "                                                                 \n",
            " dense_1 (Dense)             (None, 10)                110       \n",
            "                                                                 \n",
            "=================================================================\n",
            "Total params: 7,960\n",
            "Trainable params: 7,960\n",
            "Non-trainable params: 0\n",
            "_________________________________________________________________\n"
          ]
        }
      ]
    },
    {
      "cell_type": "markdown",
      "metadata": {
        "id": "MFnV4guqtTr1"
      },
      "source": [
        "## 4. Configuración del proceso de aprendizaje"
      ]
    },
    {
      "cell_type": "code",
      "metadata": {
        "id": "putRyHXReTb5"
      },
      "source": [
        "model.compile(loss=\"categorical_crossentropy\",\n",
        "              optimizer=\"sgd\",\n",
        "              metrics = ['accuracy'])"
      ],
      "execution_count": null,
      "outputs": []
    },
    {
      "cell_type": "markdown",
      "metadata": {
        "id": "oSIZvJ4jarRs"
      },
      "source": [
        "Aqui podriamos probar con optimizadores distintos: adagrad, rmsprop, ..."
      ]
    },
    {
      "cell_type": "markdown",
      "metadata": {
        "id": "fJpk-fczuQ5n"
      },
      "source": [
        "## 5. Entrenamiento del modelo y su evaluación"
      ]
    },
    {
      "cell_type": "markdown",
      "metadata": {
        "id": "1pjWsxfBLyzS"
      },
      "source": [
        "Podemos entrenar el modelo haciendo una pasada (epochs=1) por los datos de entrenamiento x_train e y_train:"
      ]
    },
    {
      "cell_type": "code",
      "metadata": {
        "colab": {
          "base_uri": "https://localhost:8080/"
        },
        "id": "cKXNyMOBuVIA",
        "outputId": "3009a35d-fae7-4bb2-d96b-ea625849dc81"
      },
      "source": [
        "model.fit(x_train, y_train)"
      ],
      "execution_count": null,
      "outputs": [
        {
          "output_type": "stream",
          "name": "stdout",
          "text": [
            "1875/1875 [==============================] - 9s 3ms/step - loss: 1.8649 - accuracy: 0.5098\n"
          ]
        },
        {
          "output_type": "execute_result",
          "data": {
            "text/plain": [
              "<keras.callbacks.History at 0x7fcf90066c10>"
            ]
          },
          "metadata": {},
          "execution_count": 10
        }
      ]
    },
    {
      "cell_type": "markdown",
      "metadata": {
        "id": "opSthO37MND0"
      },
      "source": [
        "Observar que la exactitud (accuracy) del modelo es baja. Podemos evaluar el modelo con datos que nunca ha \"visto\":"
      ]
    },
    {
      "cell_type": "code",
      "metadata": {
        "colab": {
          "base_uri": "https://localhost:8080/"
        },
        "id": "B0JgpwfhXdAZ",
        "outputId": "1b3fee74-a4cf-4539-836b-e0824f096e43"
      },
      "source": [
        "test_loss, test_acc = model.evaluate(x_test, y_test)"
      ],
      "execution_count": null,
      "outputs": [
        {
          "output_type": "stream",
          "name": "stdout",
          "text": [
            "313/313 [==============================] - 1s 3ms/step - loss: 1.4949 - accuracy: 0.6953\n"
          ]
        }
      ]
    },
    {
      "cell_type": "markdown",
      "metadata": {
        "id": "6xW8FmCpWv6b"
      },
      "source": [
        "La exactitud con los datos de test es mas aceptable. Si hacemos que el modelo \"vea\" los datos de entrenamiento multiples veces conseguiremos aumentar rapidamente la precisión del modelo. Esto se hace con el parametro epochs, que define el numero de veces que se entrena el modelo con todo el dataset seleccionado."
      ]
    },
    {
      "cell_type": "code",
      "metadata": {
        "colab": {
          "base_uri": "https://localhost:8080/"
        },
        "id": "4JRkuZarMd--",
        "outputId": "f380f77a-7bd8-4aaf-d225-ad51c3e7f464"
      },
      "source": [
        "model.fit(x_train, y_train, epochs=4)"
      ],
      "execution_count": null,
      "outputs": [
        {
          "output_type": "stream",
          "name": "stdout",
          "text": [
            "Epoch 1/4\n",
            "1875/1875 [==============================] - 6s 3ms/step - loss: 1.2761 - accuracy: 0.7386\n",
            "Epoch 2/4\n",
            "1875/1875 [==============================] - 6s 3ms/step - loss: 0.9706 - accuracy: 0.7998\n",
            "Epoch 3/4\n",
            "1875/1875 [==============================] - 6s 3ms/step - loss: 0.7965 - accuracy: 0.8297\n",
            "Epoch 4/4\n",
            "1875/1875 [==============================] - 6s 3ms/step - loss: 0.6875 - accuracy: 0.8467\n"
          ]
        },
        {
          "output_type": "execute_result",
          "data": {
            "text/plain": [
              "<keras.callbacks.History at 0x7fd014314410>"
            ]
          },
          "metadata": {},
          "execution_count": 12
        }
      ]
    },
    {
      "cell_type": "markdown",
      "metadata": {
        "id": "qDeubzzSYHog"
      },
      "source": [
        "Y evaluamos de nuevo el modelo tras haber sido entrenado con los mismos datos de test varias veces veremos como ha mejorado su exactitud:"
      ]
    },
    {
      "cell_type": "code",
      "metadata": {
        "colab": {
          "base_uri": "https://localhost:8080/"
        },
        "id": "4ur_3LWCuc5K",
        "outputId": "108cbffb-59c8-431a-a70c-9b755900119f"
      },
      "source": [
        "test_loss, test_acc = model.evaluate(x_test, y_test)"
      ],
      "execution_count": null,
      "outputs": [
        {
          "output_type": "stream",
          "name": "stdout",
          "text": [
            "313/313 [==============================] - 1s 3ms/step - loss: 0.6386 - accuracy: 0.8595\n"
          ]
        }
      ]
    },
    {
      "cell_type": "markdown",
      "metadata": {
        "id": "eCkqmb9TMlhp"
      },
      "source": [
        "Podemos hacer 5 epochs mas para hacer un total de 10 visitas en total de los datos de entrenamiento y ver como van evolucionando ambas métricas. Interesante ver como mejoracambiando el numero de epochs."
      ]
    },
    {
      "cell_type": "code",
      "metadata": {
        "colab": {
          "base_uri": "https://localhost:8080/"
        },
        "id": "AcAlPnVGM2Rn",
        "outputId": "a6686d76-69b7-4a5c-c8a6-0d1cb5f5c7c0"
      },
      "source": [
        "model.fit(x_train, y_train, epochs=5)"
      ],
      "execution_count": null,
      "outputs": [
        {
          "output_type": "stream",
          "name": "stdout",
          "text": [
            "Epoch 1/5\n",
            "1875/1875 [==============================] - 6s 3ms/step - loss: 0.6141 - accuracy: 0.8576\n",
            "Epoch 2/5\n",
            "1875/1875 [==============================] - 6s 3ms/step - loss: 0.5615 - accuracy: 0.8654\n",
            "Epoch 3/5\n",
            "1875/1875 [==============================] - 6s 3ms/step - loss: 0.5222 - accuracy: 0.8719\n",
            "Epoch 4/5\n",
            "1875/1875 [==============================] - 6s 3ms/step - loss: 0.4915 - accuracy: 0.8768\n",
            "Epoch 5/5\n",
            "1875/1875 [==============================] - 6s 3ms/step - loss: 0.4669 - accuracy: 0.8815\n"
          ]
        },
        {
          "output_type": "execute_result",
          "data": {
            "text/plain": [
              "<keras.callbacks.History at 0x7fd0142f4910>"
            ]
          },
          "metadata": {},
          "execution_count": 14
        }
      ]
    },
    {
      "cell_type": "markdown",
      "metadata": {
        "id": "5F4fzKOP8UZY"
      },
      "source": [
        "Y evaluamos de nuevo el modelo tras haber sido entrenado con los mismos datos de test varias veces veremos como ha mejorado su exactitud:"
      ]
    },
    {
      "cell_type": "code",
      "metadata": {
        "colab": {
          "base_uri": "https://localhost:8080/"
        },
        "id": "wigKX34MOSLE",
        "outputId": "be5f60cf-968c-4acb-c780-f6b35dfc6dba"
      },
      "source": [
        "test_loss, test_acc = model.evaluate(x_test, y_test)\n",
        "print('Test accuracy:', test_acc)"
      ],
      "execution_count": null,
      "outputs": [
        {
          "output_type": "stream",
          "name": "stdout",
          "text": [
            "313/313 [==============================] - 1s 3ms/step - loss: 0.4503 - accuracy: 0.8887\n",
            "Test accuracy: 0.888700008392334\n"
          ]
        }
      ]
    },
    {
      "cell_type": "markdown",
      "metadata": {
        "id": "lERtNsaPuJrU"
      },
      "source": [
        "## 6. Representación grafica de la curva de aprendizaje\n",
        "\n",
        "Veamos de forma grafica la evolucion del aprendizaje. Para ello introducimos dos conceptos: aprendizaje por \"batches\" y \"validation_split\". No se debe confundir con el concepto de epochs que ya hemos introducido. Con el primero le diremos que no actualice los pesos de la red para cada muestra de entrada sino cada cierto numero de entradas. Con el segundo le diremos que utilice los datos de entrammiento para ir tambien validando el proceso de aprendizaje. Por ejemplo con batch_size=100 modificara pesos 60000/100 veces, es decir, 600 veces. Con un validation_split=0.2 hara que de las 600 solo 600x0.8=480 sean de aprendizaje y 600x0.2=120 sean de validacion (no se usan para entrenar)."
      ]
    },
    {
      "cell_type": "markdown",
      "metadata": {
        "id": "gyKYHYX982Bw"
      },
      "source": [
        "Definimos de nuevo el modelo, el proceso de aprendizaje y entrenamos por 50 epochs:"
      ]
    },
    {
      "cell_type": "code",
      "metadata": {
        "colab": {
          "base_uri": "https://localhost:8080/"
        },
        "id": "gDWUoX5quPkF",
        "outputId": "ea5fb15d-ac33-41c4-eb13-c48e06803dbe"
      },
      "source": [
        "from tensorflow.keras import Sequential\n",
        "from tensorflow.keras.layers import Dense\n",
        "\n",
        "model = Sequential()\n",
        "model.add(Dense(10, activation='sigmoid', input_shape=(784,)))\n",
        "model.add(Dense(10, activation='softmax'))\n",
        "\n",
        "model.compile(loss='categorical_crossentropy',\n",
        "              optimizer=\"sgd\",\n",
        "              metrics=['accuracy'])\n",
        "\n",
        "history = model.fit(x_train, y_train, \n",
        "                    validation_data=(x_test, y_test),\n",
        "                    batch_size=100,\n",
        "                    epochs=50)"
      ],
      "execution_count": null,
      "outputs": [
        {
          "output_type": "stream",
          "name": "stdout",
          "text": [
            "Epoch 1/50\n",
            "600/600 [==============================] - 3s 4ms/step - loss: 2.1305 - accuracy: 0.3499 - val_loss: 1.9486 - val_accuracy: 0.5172\n",
            "Epoch 2/50\n",
            "600/600 [==============================] - 2s 4ms/step - loss: 1.8241 - accuracy: 0.5445 - val_loss: 1.6934 - val_accuracy: 0.5890\n",
            "Epoch 3/50\n",
            "600/600 [==============================] - 2s 4ms/step - loss: 1.5986 - accuracy: 0.6218 - val_loss: 1.4881 - val_accuracy: 0.6596\n",
            "Epoch 4/50\n",
            "600/600 [==============================] - 2s 4ms/step - loss: 1.4136 - accuracy: 0.6822 - val_loss: 1.3199 - val_accuracy: 0.7148\n",
            "Epoch 5/50\n",
            "600/600 [==============================] - 2s 4ms/step - loss: 1.2623 - accuracy: 0.7248 - val_loss: 1.1832 - val_accuracy: 0.7510\n",
            "Epoch 6/50\n",
            "600/600 [==============================] - 2s 4ms/step - loss: 1.1390 - accuracy: 0.7554 - val_loss: 1.0722 - val_accuracy: 0.7784\n",
            "Epoch 7/50\n",
            "600/600 [==============================] - 2s 4ms/step - loss: 1.0381 - accuracy: 0.7803 - val_loss: 0.9807 - val_accuracy: 0.7955\n",
            "Epoch 8/50\n",
            "600/600 [==============================] - 2s 4ms/step - loss: 0.9544 - accuracy: 0.7982 - val_loss: 0.9044 - val_accuracy: 0.8118\n",
            "Epoch 9/50\n",
            "600/600 [==============================] - 2s 4ms/step - loss: 0.8844 - accuracy: 0.8133 - val_loss: 0.8404 - val_accuracy: 0.8241\n",
            "Epoch 10/50\n",
            "600/600 [==============================] - 2s 4ms/step - loss: 0.8253 - accuracy: 0.8242 - val_loss: 0.7857 - val_accuracy: 0.8346\n",
            "Epoch 11/50\n",
            "600/600 [==============================] - 2s 4ms/step - loss: 0.7751 - accuracy: 0.8333 - val_loss: 0.7394 - val_accuracy: 0.8423\n",
            "Epoch 12/50\n",
            "600/600 [==============================] - 2s 4ms/step - loss: 0.7322 - accuracy: 0.8415 - val_loss: 0.6999 - val_accuracy: 0.8479\n",
            "Epoch 13/50\n",
            "600/600 [==============================] - 2s 4ms/step - loss: 0.6952 - accuracy: 0.8473 - val_loss: 0.6655 - val_accuracy: 0.8539\n",
            "Epoch 14/50\n",
            "600/600 [==============================] - 2s 4ms/step - loss: 0.6632 - accuracy: 0.8522 - val_loss: 0.6360 - val_accuracy: 0.8594\n",
            "Epoch 15/50\n",
            "600/600 [==============================] - 2s 4ms/step - loss: 0.6353 - accuracy: 0.8572 - val_loss: 0.6099 - val_accuracy: 0.8636\n",
            "Epoch 16/50\n",
            "600/600 [==============================] - 2s 4ms/step - loss: 0.6107 - accuracy: 0.8612 - val_loss: 0.5871 - val_accuracy: 0.8666\n",
            "Epoch 17/50\n",
            "600/600 [==============================] - 2s 4ms/step - loss: 0.5890 - accuracy: 0.8641 - val_loss: 0.5667 - val_accuracy: 0.8704\n",
            "Epoch 18/50\n",
            "600/600 [==============================] - 2s 4ms/step - loss: 0.5697 - accuracy: 0.8676 - val_loss: 0.5485 - val_accuracy: 0.8727\n",
            "Epoch 19/50\n",
            "600/600 [==============================] - 2s 4ms/step - loss: 0.5524 - accuracy: 0.8699 - val_loss: 0.5324 - val_accuracy: 0.8757\n",
            "Epoch 20/50\n",
            "600/600 [==============================] - 2s 4ms/step - loss: 0.5369 - accuracy: 0.8721 - val_loss: 0.5177 - val_accuracy: 0.8780\n",
            "Epoch 21/50\n",
            "600/600 [==============================] - 2s 3ms/step - loss: 0.5229 - accuracy: 0.8742 - val_loss: 0.5045 - val_accuracy: 0.8803\n",
            "Epoch 22/50\n",
            "600/600 [==============================] - 2s 4ms/step - loss: 0.5101 - accuracy: 0.8763 - val_loss: 0.4927 - val_accuracy: 0.8813\n",
            "Epoch 23/50\n",
            "600/600 [==============================] - 2s 4ms/step - loss: 0.4985 - accuracy: 0.8782 - val_loss: 0.4819 - val_accuracy: 0.8824\n",
            "Epoch 24/50\n",
            "600/600 [==============================] - 2s 4ms/step - loss: 0.4878 - accuracy: 0.8802 - val_loss: 0.4716 - val_accuracy: 0.8849\n",
            "Epoch 25/50\n",
            "600/600 [==============================] - 2s 4ms/step - loss: 0.4781 - accuracy: 0.8819 - val_loss: 0.4627 - val_accuracy: 0.8858\n",
            "Epoch 26/50\n",
            "600/600 [==============================] - 2s 4ms/step - loss: 0.4690 - accuracy: 0.8830 - val_loss: 0.4539 - val_accuracy: 0.8872\n",
            "Epoch 27/50\n",
            "600/600 [==============================] - 2s 4ms/step - loss: 0.4607 - accuracy: 0.8844 - val_loss: 0.4462 - val_accuracy: 0.8885\n",
            "Epoch 28/50\n",
            "600/600 [==============================] - 2s 4ms/step - loss: 0.4530 - accuracy: 0.8856 - val_loss: 0.4390 - val_accuracy: 0.8904\n",
            "Epoch 29/50\n",
            "600/600 [==============================] - 2s 4ms/step - loss: 0.4458 - accuracy: 0.8867 - val_loss: 0.4320 - val_accuracy: 0.8921\n",
            "Epoch 30/50\n",
            "600/600 [==============================] - 2s 4ms/step - loss: 0.4391 - accuracy: 0.8876 - val_loss: 0.4260 - val_accuracy: 0.8921\n",
            "Epoch 31/50\n",
            "600/600 [==============================] - 2s 4ms/step - loss: 0.4328 - accuracy: 0.8885 - val_loss: 0.4204 - val_accuracy: 0.8930\n",
            "Epoch 32/50\n",
            "600/600 [==============================] - 2s 4ms/step - loss: 0.4269 - accuracy: 0.8899 - val_loss: 0.4146 - val_accuracy: 0.8941\n",
            "Epoch 33/50\n",
            "600/600 [==============================] - 2s 4ms/step - loss: 0.4214 - accuracy: 0.8910 - val_loss: 0.4094 - val_accuracy: 0.8949\n",
            "Epoch 34/50\n",
            "600/600 [==============================] - 2s 3ms/step - loss: 0.4162 - accuracy: 0.8915 - val_loss: 0.4046 - val_accuracy: 0.8956\n",
            "Epoch 35/50\n",
            "600/600 [==============================] - 2s 4ms/step - loss: 0.4113 - accuracy: 0.8922 - val_loss: 0.3998 - val_accuracy: 0.8961\n",
            "Epoch 36/50\n",
            "600/600 [==============================] - 2s 4ms/step - loss: 0.4067 - accuracy: 0.8932 - val_loss: 0.3958 - val_accuracy: 0.8971\n",
            "Epoch 37/50\n",
            "600/600 [==============================] - 2s 4ms/step - loss: 0.4023 - accuracy: 0.8938 - val_loss: 0.3917 - val_accuracy: 0.8980\n",
            "Epoch 38/50\n",
            "600/600 [==============================] - 2s 4ms/step - loss: 0.3981 - accuracy: 0.8942 - val_loss: 0.3877 - val_accuracy: 0.8978\n",
            "Epoch 39/50\n",
            "600/600 [==============================] - 2s 4ms/step - loss: 0.3942 - accuracy: 0.8953 - val_loss: 0.3841 - val_accuracy: 0.8979\n",
            "Epoch 40/50\n",
            "600/600 [==============================] - 2s 4ms/step - loss: 0.3904 - accuracy: 0.8957 - val_loss: 0.3807 - val_accuracy: 0.8989\n",
            "Epoch 41/50\n",
            "600/600 [==============================] - 2s 4ms/step - loss: 0.3868 - accuracy: 0.8962 - val_loss: 0.3772 - val_accuracy: 0.8992\n",
            "Epoch 42/50\n",
            "600/600 [==============================] - 2s 4ms/step - loss: 0.3834 - accuracy: 0.8967 - val_loss: 0.3741 - val_accuracy: 0.8993\n",
            "Epoch 43/50\n",
            "600/600 [==============================] - 2s 4ms/step - loss: 0.3801 - accuracy: 0.8976 - val_loss: 0.3709 - val_accuracy: 0.8999\n",
            "Epoch 44/50\n",
            "600/600 [==============================] - 2s 4ms/step - loss: 0.3769 - accuracy: 0.8978 - val_loss: 0.3684 - val_accuracy: 0.8998\n",
            "Epoch 45/50\n",
            "600/600 [==============================] - 2s 4ms/step - loss: 0.3740 - accuracy: 0.8985 - val_loss: 0.3652 - val_accuracy: 0.9005\n",
            "Epoch 46/50\n",
            "600/600 [==============================] - 2s 4ms/step - loss: 0.3711 - accuracy: 0.8990 - val_loss: 0.3625 - val_accuracy: 0.9011\n",
            "Epoch 47/50\n",
            "600/600 [==============================] - 2s 4ms/step - loss: 0.3683 - accuracy: 0.8992 - val_loss: 0.3601 - val_accuracy: 0.9015\n",
            "Epoch 48/50\n",
            "600/600 [==============================] - 2s 4ms/step - loss: 0.3656 - accuracy: 0.8998 - val_loss: 0.3575 - val_accuracy: 0.9016\n",
            "Epoch 49/50\n",
            "600/600 [==============================] - 2s 4ms/step - loss: 0.3631 - accuracy: 0.9005 - val_loss: 0.3551 - val_accuracy: 0.9027\n",
            "Epoch 50/50\n",
            "600/600 [==============================] - 2s 4ms/step - loss: 0.3606 - accuracy: 0.9008 - val_loss: 0.3528 - val_accuracy: 0.9022\n"
          ]
        }
      ]
    },
    {
      "cell_type": "markdown",
      "metadata": {
        "id": "PQjGhTLT9CPj"
      },
      "source": [
        "Y finalmente visualizamos la evolución de la exactitud con las epochs:"
      ]
    },
    {
      "cell_type": "code",
      "metadata": {
        "colab": {
          "base_uri": "https://localhost:8080/",
          "height": 283
        },
        "id": "8NKHpBGcujZd",
        "outputId": "e2471dc1-44c8-4612-bc6d-7027f829a6dc"
      },
      "source": [
        "import matplotlib.pyplot as plt\n",
        "import pandas as pd\n",
        "\n",
        "def plot_history(history):     \n",
        "  hist = pd.DataFrame(history.history)\n",
        "  hist['epoch'] = history.epoch\n",
        "\n",
        "  plt.figure()\n",
        "  plt.xlabel('Epoch')\n",
        "  plt.ylabel('Accuracy')\n",
        "  plt.plot(hist['epoch'], hist['accuracy'],'r--',\n",
        "           label='Training')\n",
        "  plt.plot(hist['epoch'], hist['val_accuracy'],'b',\n",
        "           label = 'Validation')\n",
        "  plt.ylim([0.7,1])\n",
        "  plt.legend()\n",
        "  plt.show()\n",
        "\n",
        "plot_history(history)"
      ],
      "execution_count": null,
      "outputs": [
        {
          "output_type": "display_data",
          "data": {
            "image/png": "[encoded data removed]",
            "text/plain": [
              "<Figure size 432x288 with 1 Axes>"
            ]
          },
          "metadata": {
            "tags": [],
            "needs_background": "light"
          }
        }
      ]
    },
    {
      "cell_type": "markdown",
      "metadata": {
        "id": "Drt2JmaYbexb"
      },
      "source": [
        "## *7*. La matriz de confusión: como se decide la clasificación"
      ]
    },
    {
      "cell_type": "code",
      "metadata": {
        "id": "lCn4nyM0uivj"
      },
      "source": [
        "import numpy as np\n",
        "import matplotlib.pyplot as plt\n",
        "\n",
        "# Note, this code is taken straight from the SKLEARN website, \n",
        "# a nice way of viewing confusion matrix.\n",
        "def plot_confusion_matrix(cm, classes,\n",
        "                          normalize=False,\n",
        "                          title='Confusion matrix',\n",
        "                          cmap=plt.cm.Blues):\n",
        " \n",
        "    plt.imshow(cm, interpolation='nearest', cmap=cmap)\n",
        "    plt.title(title)\n",
        "    plt.colorbar()\n",
        "    tick_marks = np.arange(len(classes))\n",
        "    plt.xticks(tick_marks, classes, rotation=45)\n",
        "    plt.yticks(tick_marks, classes)\n",
        "\n",
        "    if normalize:\n",
        "        cm = cm.astype('float') / cm.sum(axis=1)[:, np.newaxis]\n",
        "\n",
        "    thresh = cm.max() / 2.\n",
        "    for i, j in itertools.product(range(cm.shape[0]), range(cm.shape[1])):\n",
        "        plt.text(j, i, cm[i, j],\n",
        "                 horizontalalignment=\"center\",\n",
        "                 color=\"white\" if cm[i, j] > thresh else \"black\")\n",
        "\n",
        "    plt.tight_layout()\n",
        "    plt.ylabel('Observación')\n",
        "    plt.xlabel('Predicción')"
      ],
      "execution_count": null,
      "outputs": []
    },
    {
      "cell_type": "code",
      "metadata": {
        "colab": {
          "base_uri": "https://localhost:8080/",
          "height": 332
        },
        "id": "Cnz952tguiyC",
        "outputId": "243850db-77d2-4ab5-9659-21e0eecc4ec5"
      },
      "source": [
        "from collections import Counter\n",
        "from sklearn.metrics import confusion_matrix\n",
        "import itertools\n",
        "\n",
        "# Predict the values from the validation dataset\n",
        "Y_pred = model.predict(x_test)\n",
        "# Convert predictions classes to one hot vectors \n",
        "Y_pred_classes = np.argmax(Y_pred, axis = 1) \n",
        "# Convert validation observations to one hot vectors\n",
        "Y_true = np.argmax(y_test, axis = 1) \n",
        "# compute the confusion matrix\n",
        "confusion_mtx = confusion_matrix(Y_true, Y_pred_classes) \n",
        "# plot the confusion matrix\n",
        "plot_confusion_matrix(confusion_mtx, classes = range(10))"
      ],
      "execution_count": null,
      "outputs": [
        {
          "output_type": "display_data",
          "data": {
            "image/png": "[encoded data removed]",
            "text/plain": [
              "<Figure size 432x288 with 2 Axes>"
            ]
          },
          "metadata": {
            "needs_background": "light"
          }
        }
      ]
    }
  ]
}