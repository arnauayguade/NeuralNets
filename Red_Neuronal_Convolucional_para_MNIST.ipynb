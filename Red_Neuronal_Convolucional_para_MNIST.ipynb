{
  "nbformat": 4,
  "nbformat_minor": 0,
  "metadata": {
    "colab": {
      "name": "Red Neuronal Convolucional para MNIST",
      "provenance": []
    },
    "kernelspec": {
      "name": "python3",
      "display_name": "Python 3"
    },
    "accelerator": "GPU"
  },
  "cells": [
    {
      "cell_type": "markdown",
      "metadata": {
        "id": "FKNAOn5Ia7pG"
      },
      "source": [
        "\n",
        "# **Red neuronal convolucional**\n",
        "Basado en [**Python Deep Learning** Introducción práctica con Keras y TensorFlow 2. Jordi Torres. Editorial Marcombo ISBN: 9788426728289 ](https://www.marcombo.com/python-deep-learning-9788426728289/).\n",
        "\n",
        "Treball de Recerca d'Arnau Ayguadé. Institut Front Marítim. Barcelona"
      ]
    },
    {
      "cell_type": "code",
      "metadata": {
        "id": "VcFrOCQOYU1R"
      },
      "source": [
        "import tensorflow as tf\n",
        "from tensorflow import keras\n",
        "\n",
        "import numpy as np\n",
        "import matplotlib.pyplot as plt"
      ],
      "execution_count": null,
      "outputs": []
    },
    {
      "cell_type": "markdown",
      "metadata": {
        "id": "Nx0Q9RkQ1hFX"
      },
      "source": [
        "## 1. Definimos la red convolucional"
      ]
    },
    {
      "cell_type": "markdown",
      "metadata": {
        "id": "NZJ_BNnoPWPb"
      },
      "source": [
        "Definimos una primera capa convolucional seguida de una capa de MaxPooling (se incluye la opcion de añadir padding)"
      ]
    },
    {
      "cell_type": "code",
      "metadata": {
        "colab": {
          "base_uri": "https://localhost:8080/"
        },
        "id": "rab7PD4AhnEH",
        "outputId": "d829e4cb-525a-4405-a01d-db03033eaa02"
      },
      "source": [
        "from tensorflow.keras import Sequential\n",
        "from tensorflow.keras.layers import Conv2D\n",
        "from tensorflow.keras.layers import MaxPooling2D\n",
        "from tensorflow.keras.layers import Flatten\n",
        "from tensorflow.keras.layers import Dense\n",
        "\n",
        "model = Sequential()\n",
        "model.add(Conv2D(filters=32, kernel_size=(5, 5), activation='relu', input_shape=(28, 28, 1)))\n",
        "model.add(MaxPooling2D((2, 2)))\n",
        "\n",
        "model.add(Conv2D(filters=64, kernel_size=(5, 5), activation='relu'))\n",
        "model.add(MaxPooling2D((2, 2)))\n",
        "\n",
        "model.add(Flatten())\n",
        "model.add(Dense(10, activation='softmax'))\n",
        "model.summary()"
      ],
      "execution_count": null,
      "outputs": [
        {
          "output_type": "stream",
          "name": "stdout",
          "text": [
            "Model: \"sequential_2\"\n",
            "_________________________________________________________________\n",
            " Layer (type)                Output Shape              Param #   \n",
            "=================================================================\n",
            " conv2d_4 (Conv2D)           (None, 24, 24, 32)        832       \n",
            "                                                                 \n",
            " max_pooling2d_4 (MaxPooling  (None, 12, 12, 32)       0         \n",
            " 2D)                                                             \n",
            "                                                                 \n",
            " conv2d_5 (Conv2D)           (None, 8, 8, 64)          51264     \n",
            "                                                                 \n",
            " max_pooling2d_5 (MaxPooling  (None, 4, 4, 64)         0         \n",
            " 2D)                                                             \n",
            "                                                                 \n",
            " flatten_2 (Flatten)         (None, 1024)              0         \n",
            "                                                                 \n",
            " dense_2 (Dense)             (None, 10)                10250     \n",
            "                                                                 \n",
            "=================================================================\n",
            "Total params: 62,346\n",
            "Trainable params: 62,346\n",
            "Non-trainable params: 0\n",
            "_________________________________________________________________\n"
          ]
        }
      ]
    },
    {
      "cell_type": "code",
      "metadata": {
        "id": "EjwjDIuXeS_s",
        "colab": {
          "base_uri": "https://localhost:8080/"
        },
        "outputId": "116566f9-ea4b-47f5-b672-f9474e9431ae"
      },
      "source": [
        "from tensorflow.keras import Sequential\n",
        "from tensorflow.keras.layers import Conv2D\n",
        "from tensorflow.keras.layers import MaxPooling2D\n",
        "\n",
        "model = Sequential()\n",
        "model.add(Conv2D(filters=16, kernel_size=(7, 7), activation='relu', input_shape=(28, 28, 1)))\n",
        "model.add(MaxPooling2D((2, 2)))\n",
        "model.summary()"
      ],
      "execution_count": null,
      "outputs": [
        {
          "output_type": "stream",
          "name": "stdout",
          "text": [
            "Model: \"sequential_4\"\n",
            "_________________________________________________________________\n",
            "Layer (type)                 Output Shape              Param #   \n",
            "=================================================================\n",
            "conv2d_5 (Conv2D)            (None, 22, 22, 16)        800       \n",
            "_________________________________________________________________\n",
            "max_pooling2d_5 (MaxPooling2 (None, 11, 11, 16)        0         \n",
            "=================================================================\n",
            "Total params: 800\n",
            "Trainable params: 800\n",
            "Non-trainable params: 0\n",
            "_________________________________________________________________\n"
          ]
        }
      ]
    },
    {
      "cell_type": "markdown",
      "metadata": {
        "id": "9cBPtd5PPhNl"
      },
      "source": [
        "Y luego añadimos una segunda capa convolucional, de nuevo seguida de una capa de MaxPooling"
      ]
    },
    {
      "cell_type": "code",
      "metadata": {
        "id": "Z7SShiqCGM8g",
        "colab": {
          "base_uri": "https://localhost:8080/"
        },
        "outputId": "eb6ccec7-8198-4910-e349-e20fadd299b6"
      },
      "source": [
        "\n",
        "model.add(Conv2D(filters=32, kernel_size=(7, 7), activation='relu'))\n",
        "model.add(MaxPooling2D((2, 2)))\n",
        "model.summary()"
      ],
      "execution_count": null,
      "outputs": [
        {
          "output_type": "stream",
          "name": "stdout",
          "text": [
            "Model: \"sequential_4\"\n",
            "_________________________________________________________________\n",
            "Layer (type)                 Output Shape              Param #   \n",
            "=================================================================\n",
            "conv2d_5 (Conv2D)            (None, 22, 22, 16)        800       \n",
            "_________________________________________________________________\n",
            "max_pooling2d_5 (MaxPooling2 (None, 11, 11, 16)        0         \n",
            "_________________________________________________________________\n",
            "conv2d_6 (Conv2D)            (None, 5, 5, 32)          25120     \n",
            "_________________________________________________________________\n",
            "max_pooling2d_6 (MaxPooling2 (None, 2, 2, 32)          0         \n",
            "=================================================================\n",
            "Total params: 25,920\n",
            "Trainable params: 25,920\n",
            "Non-trainable params: 0\n",
            "_________________________________________________________________\n"
          ]
        }
      ]
    },
    {
      "cell_type": "markdown",
      "metadata": {
        "id": "sUpPeq6_QCuo"
      },
      "source": [
        "Para finalmente añadir una capa densa precedida de una capa Flatten que nos transformara los tensores de salida de la ultima capa convolucional 3D en 1D"
      ]
    },
    {
      "cell_type": "code",
      "metadata": {
        "id": "T-fqZVN9F18n",
        "colab": {
          "base_uri": "https://localhost:8080/"
        },
        "outputId": "d337c32a-c3eb-40e4-b141-f41d28aec21c"
      },
      "source": [
        "from tensorflow.keras.layers import Dense\n",
        "from tensorflow.keras.layers import Flatten\n",
        "\n",
        "model.add(Flatten())\n",
        "model.add(Dense(10, activation='softmax'))\n",
        "model.summary()"
      ],
      "execution_count": null,
      "outputs": [
        {
          "output_type": "stream",
          "name": "stdout",
          "text": [
            "Model: \"sequential_4\"\n",
            "_________________________________________________________________\n",
            "Layer (type)                 Output Shape              Param #   \n",
            "=================================================================\n",
            "conv2d_5 (Conv2D)            (None, 22, 22, 16)        800       \n",
            "_________________________________________________________________\n",
            "max_pooling2d_5 (MaxPooling2 (None, 11, 11, 16)        0         \n",
            "_________________________________________________________________\n",
            "conv2d_6 (Conv2D)            (None, 5, 5, 32)          25120     \n",
            "_________________________________________________________________\n",
            "max_pooling2d_6 (MaxPooling2 (None, 2, 2, 32)          0         \n",
            "_________________________________________________________________\n",
            "flatten_2 (Flatten)          (None, 128)               0         \n",
            "_________________________________________________________________\n",
            "dense_2 (Dense)              (None, 10)                1290      \n",
            "=================================================================\n",
            "Total params: 27,210\n",
            "Trainable params: 27,210\n",
            "Non-trainable params: 0\n",
            "_________________________________________________________________\n"
          ]
        }
      ]
    },
    {
      "cell_type": "markdown",
      "metadata": {
        "id": "E73Z-iLaQ11v"
      },
      "source": [
        "# 2. Dataset y normalizacion\n",
        "Cargamos el dataset MNIST, convirtiendo los atributos de entrada a tensores 3D y normalizamos. A continuación categorizamos los labels para clasificacion.\n"
      ]
    },
    {
      "cell_type": "code",
      "metadata": {
        "id": "putRyHXReTb5",
        "colab": {
          "base_uri": "https://localhost:8080/"
        },
        "outputId": "5c73154f-9dde-4e53-c639-8c96040632af"
      },
      "source": [
        "from tensorflow.keras.utils import to_categorical\n",
        "\n",
        "mnist = tf.keras.datasets.mnist\n",
        "(train_images, train_labels), (test_images, test_labels) = mnist.load_data()\n",
        "\n",
        "train_images = train_images.reshape((60000, 28, 28, 1))\n",
        "train_images = train_images.astype('float32') / 255\n",
        "\n",
        "test_images = test_images.reshape((10000, 28, 28, 1))\n",
        "test_images = test_images.astype('float32') / 255\n",
        "\n",
        "train_labels = to_categorical(train_labels)\n",
        "test_labels = to_categorical(test_labels)"
      ],
      "execution_count": null,
      "outputs": [
        {
          "output_type": "stream",
          "name": "stdout",
          "text": [
            "Downloading data from https://storage.googleapis.com/tensorflow/tf-keras-datasets/mnist.npz\n",
            "11493376/11490434 [==============================] - 0s 0us/step\n",
            "11501568/11490434 [==============================] - 0s 0us/step\n"
          ]
        }
      ]
    },
    {
      "cell_type": "markdown",
      "metadata": {
        "id": "HEkSFBleRfzE"
      },
      "source": [
        "# 3. Entrenamiento del modelo\n",
        "Inicialmente preparado para usar el optimizador sgd, pero se podria optar por adam"
      ]
    },
    {
      "cell_type": "code",
      "metadata": {
        "id": "8jt2EkwxuQf4",
        "colab": {
          "base_uri": "https://localhost:8080/"
        },
        "outputId": "d67aac90-5845-43c1-c1e6-a21200000f57"
      },
      "source": [
        "\n",
        "model.compile(loss='categorical_crossentropy',\n",
        "              optimizer='sgd',\n",
        "#              optimizer='adam',\n",
        "              metrics=['accuracy'])\n",
        "\n",
        "model.fit(train_images, train_labels,\n",
        "          batch_size=100,\n",
        "          epochs=5,\n",
        "          verbose=1)"
      ],
      "execution_count": null,
      "outputs": [
        {
          "output_type": "stream",
          "name": "stdout",
          "text": [
            "Epoch 1/5\n",
            "600/600 [==============================] - 35s 8ms/step - loss: 0.9601 - accuracy: 0.7490\n",
            "Epoch 2/5\n",
            "600/600 [==============================] - 5s 8ms/step - loss: 0.2621 - accuracy: 0.9226\n",
            "Epoch 3/5\n",
            "600/600 [==============================] - 5s 8ms/step - loss: 0.1861 - accuracy: 0.9461\n",
            "Epoch 4/5\n",
            "600/600 [==============================] - 5s 8ms/step - loss: 0.1479 - accuracy: 0.9570\n",
            "Epoch 5/5\n",
            "600/600 [==============================] - 5s 8ms/step - loss: 0.1250 - accuracy: 0.9636\n"
          ]
        },
        {
          "output_type": "execute_result",
          "data": {
            "text/plain": [
              "<keras.callbacks.History at 0x7f87b013bd50>"
            ]
          },
          "metadata": {},
          "execution_count": 6
        }
      ]
    },
    {
      "cell_type": "markdown",
      "metadata": {
        "id": "_xU1BBRcR5PA"
      },
      "source": [
        "# 4. Evaluación del modelo"
      ]
    },
    {
      "cell_type": "code",
      "metadata": {
        "colab": {
          "base_uri": "https://localhost:8080/"
        },
        "id": "hq0hf_WoR99V",
        "outputId": "43a34eb0-d5fd-4564-a056-2fbd582d8a37"
      },
      "source": [
        "test_loss, test_acc = model.evaluate(test_images, test_labels)\n",
        "\n",
        "print('Test accuracy:', test_acc)"
      ],
      "execution_count": null,
      "outputs": [
        {
          "output_type": "stream",
          "name": "stdout",
          "text": [
            "313/313 [==============================] - 2s 5ms/step - loss: 0.1019 - accuracy: 0.9701\n",
            "Test accuracy: 0.9700999855995178\n"
          ]
        }
      ]
    },
    {
      "cell_type": "markdown",
      "metadata": {
        "id": "MG4arzAxS6bv"
      },
      "source": [
        "# 5. Nuevo modelo con mas capas\n",
        "Optimizaciones: 1) padding; 2) nueva capa convolucional y mas filtros y nueva capa densa; "
      ]
    },
    {
      "cell_type": "code",
      "metadata": {
        "colab": {
          "base_uri": "https://localhost:8080/"
        },
        "id": "Fxt7r6QLTBa8",
        "outputId": "0b27e6b8-52b5-42b2-8dbe-a37c7a55d497"
      },
      "source": [
        "model = Sequential()\n",
        "model.add(Conv2D(32, (3, 3), activation='relu', padding='same', input_shape=(28, 28, 1)))\n",
        "model.add(MaxPooling2D((2, 2)))\n",
        "model.add(Conv2D(64, (3, 3), activation='relu', padding='same'))\n",
        "model.add(MaxPooling2D((2, 2)))\n",
        "model.add(Conv2D(128, (3, 3), activation='relu', padding='same'))\n",
        "model.add(MaxPooling2D((2, 2)))\n",
        "model.add(Flatten())\n",
        "model.add(Dense(64, activation='relu'))\n",
        "model.add(Dense(10, activation='softmax'))\n",
        "model.summary()"
      ],
      "execution_count": null,
      "outputs": [
        {
          "output_type": "stream",
          "name": "stdout",
          "text": [
            "Model: \"sequential_1\"\n",
            "_________________________________________________________________\n",
            "Layer (type)                 Output Shape              Param #   \n",
            "=================================================================\n",
            "conv2d_2 (Conv2D)            (None, 28, 28, 32)        320       \n",
            "_________________________________________________________________\n",
            "max_pooling2d_2 (MaxPooling2 (None, 14, 14, 32)        0         \n",
            "_________________________________________________________________\n",
            "conv2d_3 (Conv2D)            (None, 14, 14, 64)        18496     \n",
            "_________________________________________________________________\n",
            "max_pooling2d_3 (MaxPooling2 (None, 7, 7, 64)          0         \n",
            "_________________________________________________________________\n",
            "conv2d_4 (Conv2D)            (None, 7, 7, 128)         73856     \n",
            "_________________________________________________________________\n",
            "max_pooling2d_4 (MaxPooling2 (None, 3, 3, 128)         0         \n",
            "_________________________________________________________________\n",
            "flatten_1 (Flatten)          (None, 1152)              0         \n",
            "_________________________________________________________________\n",
            "dense_1 (Dense)              (None, 64)                73792     \n",
            "_________________________________________________________________\n",
            "dense_2 (Dense)              (None, 10)                650       \n",
            "=================================================================\n",
            "Total params: 167,114\n",
            "Trainable params: 167,114\n",
            "Non-trainable params: 0\n",
            "_________________________________________________________________\n"
          ]
        }
      ]
    },
    {
      "cell_type": "code",
      "metadata": {
        "colab": {
          "base_uri": "https://localhost:8080/"
        },
        "id": "NQcxFFzjUJ2f",
        "outputId": "c4fc2973-552e-45b2-b493-c632a82c6e9d"
      },
      "source": [
        "model.compile(loss='categorical_crossentropy',\n",
        "#              optimizer='sgd',\n",
        "              optimizer='adam',\n",
        "              metrics=['accuracy'])\n",
        "\n",
        "EPOCHS = 30\n",
        "\n",
        "history = model.fit(train_images, train_labels,\n",
        "          batch_size=100,\n",
        "          epochs=EPOCHS,\n",
        "          validation_split=0.2,\n",
        "          verbose=1)"
      ],
      "execution_count": null,
      "outputs": [
        {
          "output_type": "stream",
          "name": "stdout",
          "text": [
            "Epoch 1/30\n",
            "480/480 [==============================] - 8s 14ms/step - loss: 0.2352 - accuracy: 0.9291 - val_loss: 0.0750 - val_accuracy: 0.9785\n",
            "Epoch 2/30\n",
            "480/480 [==============================] - 6s 12ms/step - loss: 0.0563 - accuracy: 0.9821 - val_loss: 0.0428 - val_accuracy: 0.9865\n",
            "Epoch 3/30\n",
            "480/480 [==============================] - 5s 11ms/step - loss: 0.0359 - accuracy: 0.9885 - val_loss: 0.0355 - val_accuracy: 0.9901\n",
            "Epoch 4/30\n",
            "480/480 [==============================] - 6s 12ms/step - loss: 0.0308 - accuracy: 0.9899 - val_loss: 0.0356 - val_accuracy: 0.9909\n",
            "Epoch 5/30\n",
            "480/480 [==============================] - 6s 11ms/step - loss: 0.0232 - accuracy: 0.9927 - val_loss: 0.0351 - val_accuracy: 0.9901\n",
            "Epoch 6/30\n",
            "480/480 [==============================] - 6s 12ms/step - loss: 0.0196 - accuracy: 0.9940 - val_loss: 0.0407 - val_accuracy: 0.9872\n",
            "Epoch 7/30\n",
            "480/480 [==============================] - 5s 11ms/step - loss: 0.0163 - accuracy: 0.9948 - val_loss: 0.0445 - val_accuracy: 0.9883\n",
            "Epoch 8/30\n",
            "480/480 [==============================] - 5s 11ms/step - loss: 0.0121 - accuracy: 0.9958 - val_loss: 0.0389 - val_accuracy: 0.9893\n",
            "Epoch 9/30\n",
            "480/480 [==============================] - 6s 12ms/step - loss: 0.0117 - accuracy: 0.9958 - val_loss: 0.0367 - val_accuracy: 0.9898\n",
            "Epoch 10/30\n",
            "480/480 [==============================] - 6s 12ms/step - loss: 0.0098 - accuracy: 0.9968 - val_loss: 0.0345 - val_accuracy: 0.9918\n",
            "Epoch 11/30\n",
            "480/480 [==============================] - 5s 11ms/step - loss: 0.0082 - accuracy: 0.9972 - val_loss: 0.0383 - val_accuracy: 0.9911\n",
            "Epoch 12/30\n",
            "480/480 [==============================] - 5s 11ms/step - loss: 0.0068 - accuracy: 0.9978 - val_loss: 0.0504 - val_accuracy: 0.9874\n",
            "Epoch 13/30\n",
            "480/480 [==============================] - 6s 12ms/step - loss: 0.0084 - accuracy: 0.9972 - val_loss: 0.0498 - val_accuracy: 0.9872\n",
            "Epoch 14/30\n",
            "480/480 [==============================] - 6s 12ms/step - loss: 0.0066 - accuracy: 0.9979 - val_loss: 0.0620 - val_accuracy: 0.9851\n",
            "Epoch 15/30\n",
            "480/480 [==============================] - 5s 11ms/step - loss: 0.0069 - accuracy: 0.9976 - val_loss: 0.0411 - val_accuracy: 0.9905\n",
            "Epoch 16/30\n",
            "480/480 [==============================] - 6s 12ms/step - loss: 0.0040 - accuracy: 0.9988 - val_loss: 0.0426 - val_accuracy: 0.9913\n",
            "Epoch 17/30\n",
            "480/480 [==============================] - 5s 11ms/step - loss: 0.0062 - accuracy: 0.9979 - val_loss: 0.0416 - val_accuracy: 0.9907\n",
            "Epoch 18/30\n",
            "480/480 [==============================] - 6s 12ms/step - loss: 0.0068 - accuracy: 0.9977 - val_loss: 0.0363 - val_accuracy: 0.9917\n",
            "Epoch 19/30\n",
            "480/480 [==============================] - 5s 11ms/step - loss: 0.0037 - accuracy: 0.9988 - val_loss: 0.0422 - val_accuracy: 0.9923\n",
            "Epoch 20/30\n",
            "480/480 [==============================] - 6s 12ms/step - loss: 0.0035 - accuracy: 0.9990 - val_loss: 0.0540 - val_accuracy: 0.9890\n",
            "Epoch 21/30\n",
            "480/480 [==============================] - 6s 12ms/step - loss: 0.0053 - accuracy: 0.9981 - val_loss: 0.0507 - val_accuracy: 0.9912\n",
            "Epoch 22/30\n",
            "480/480 [==============================] - 5s 11ms/step - loss: 0.0034 - accuracy: 0.9989 - val_loss: 0.0427 - val_accuracy: 0.9920\n",
            "Epoch 23/30\n",
            "480/480 [==============================] - 6s 12ms/step - loss: 0.0028 - accuracy: 0.9992 - val_loss: 0.0434 - val_accuracy: 0.9914\n",
            "Epoch 24/30\n",
            "480/480 [==============================] - 5s 11ms/step - loss: 0.0033 - accuracy: 0.9990 - val_loss: 0.0501 - val_accuracy: 0.9907\n",
            "Epoch 25/30\n",
            "480/480 [==============================] - 6s 11ms/step - loss: 0.0049 - accuracy: 0.9986 - val_loss: 0.0755 - val_accuracy: 0.9855\n",
            "Epoch 26/30\n",
            "480/480 [==============================] - 5s 11ms/step - loss: 0.0040 - accuracy: 0.9987 - val_loss: 0.0417 - val_accuracy: 0.9923\n",
            "Epoch 27/30\n",
            "480/480 [==============================] - 6s 12ms/step - loss: 0.0028 - accuracy: 0.9992 - val_loss: 0.0404 - val_accuracy: 0.9925\n",
            "Epoch 28/30\n",
            "480/480 [==============================] - 5s 11ms/step - loss: 0.0016 - accuracy: 0.9995 - val_loss: 0.0494 - val_accuracy: 0.9918\n",
            "Epoch 29/30\n",
            "480/480 [==============================] - 6s 12ms/step - loss: 0.0037 - accuracy: 0.9986 - val_loss: 0.0463 - val_accuracy: 0.9913\n",
            "Epoch 30/30\n",
            "480/480 [==============================] - 5s 11ms/step - loss: 0.0051 - accuracy: 0.9984 - val_loss: 0.0524 - val_accuracy: 0.9914\n"
          ]
        }
      ]
    },
    {
      "cell_type": "markdown",
      "metadata": {
        "id": "SfuieepNYorH"
      },
      "source": [
        "Evaluacion del modelo"
      ]
    },
    {
      "cell_type": "code",
      "metadata": {
        "colab": {
          "base_uri": "https://localhost:8080/",
          "height": 204
        },
        "id": "lvnvdRO6Yq52",
        "outputId": "1cacdf7e-ea50-4c2d-baa8-5473424fd47b"
      },
      "source": [
        "import pandas as pd\n",
        "\n",
        "hist = pd.DataFrame(history.history)\n",
        "hist['epoch'] = history.epoch\n",
        "hist.tail()"
      ],
      "execution_count": null,
      "outputs": [
        {
          "output_type": "execute_result",
          "data": {
            "text/html": [
              "<div>\n",
              "<style scoped>\n",
              "    .dataframe tbody tr th:only-of-type {\n",
              "        vertical-align: middle;\n",
              "    }\n",
              "\n",
              "    .dataframe tbody tr th {\n",
              "        vertical-align: top;\n",
              "    }\n",
              "\n",
              "    .dataframe thead th {\n",
              "        text-align: right;\n",
              "    }\n",
              "</style>\n",
              "<table border=\"1\" class=\"dataframe\">\n",
              "  <thead>\n",
              "    <tr style=\"text-align: right;\">\n",
              "      <th></th>\n",
              "      <th>loss</th>\n",
              "      <th>accuracy</th>\n",
              "      <th>val_loss</th>\n",
              "      <th>val_accuracy</th>\n",
              "      <th>epoch</th>\n",
              "    </tr>\n",
              "  </thead>\n",
              "  <tbody>\n",
              "    <tr>\n",
              "      <th>25</th>\n",
              "      <td>0.000010</td>\n",
              "      <td>1.0</td>\n",
              "      <td>0.050949</td>\n",
              "      <td>0.993000</td>\n",
              "      <td>25</td>\n",
              "    </tr>\n",
              "    <tr>\n",
              "      <th>26</th>\n",
              "      <td>0.000007</td>\n",
              "      <td>1.0</td>\n",
              "      <td>0.052042</td>\n",
              "      <td>0.992917</td>\n",
              "      <td>26</td>\n",
              "    </tr>\n",
              "    <tr>\n",
              "      <th>27</th>\n",
              "      <td>0.000006</td>\n",
              "      <td>1.0</td>\n",
              "      <td>0.052801</td>\n",
              "      <td>0.992833</td>\n",
              "      <td>27</td>\n",
              "    </tr>\n",
              "    <tr>\n",
              "      <th>28</th>\n",
              "      <td>0.000004</td>\n",
              "      <td>1.0</td>\n",
              "      <td>0.053634</td>\n",
              "      <td>0.992917</td>\n",
              "      <td>28</td>\n",
              "    </tr>\n",
              "    <tr>\n",
              "      <th>29</th>\n",
              "      <td>0.000003</td>\n",
              "      <td>1.0</td>\n",
              "      <td>0.054521</td>\n",
              "      <td>0.993083</td>\n",
              "      <td>29</td>\n",
              "    </tr>\n",
              "  </tbody>\n",
              "</table>\n",
              "</div>"
            ],
            "text/plain": [
              "        loss  accuracy  val_loss  val_accuracy  epoch\n",
              "25  0.000010       1.0  0.050949      0.993000     25\n",
              "26  0.000007       1.0  0.052042      0.992917     26\n",
              "27  0.000006       1.0  0.052801      0.992833     27\n",
              "28  0.000004       1.0  0.053634      0.992917     28\n",
              "29  0.000003       1.0  0.054521      0.993083     29"
            ]
          },
          "metadata": {},
          "execution_count": 13
        }
      ]
    },
    {
      "cell_type": "code",
      "metadata": {
        "id": "6O-SnHDpZ0xz"
      },
      "source": [
        "def plot_history(history):     \n",
        "  hist = pd.DataFrame(history.history)\n",
        "  hist['epoch'] = history.epoch\n",
        "\n",
        "  plt.figure()\n",
        "  plt.xlabel('Epoch')\n",
        "  plt.ylabel('Accuracy')\n",
        "  plt.plot(hist['epoch'], hist['accuracy'],'r--',\n",
        "           label='Training')\n",
        "  plt.plot(hist['epoch'], hist['val_accuracy'],'b',\n",
        "           label = 'Validation')\n",
        "  plt.ylim([0.9,1])\n",
        "  plt.legend()\n",
        "  plt.show()"
      ],
      "execution_count": null,
      "outputs": []
    },
    {
      "cell_type": "code",
      "metadata": {
        "colab": {
          "base_uri": "https://localhost:8080/",
          "height": 283
        },
        "id": "AhdMdbepZ3kp",
        "outputId": "5ee1856e-f1a4-4454-a8e6-6cb37a0662f6"
      },
      "source": [
        "plot_history(history)"
      ],
      "execution_count": null,
      "outputs": [
        {
          "output_type": "display_data",
          "data": {
            "image/png": "[encoded data removed]",
            "text/plain": [
              "<Figure size 432x288 with 1 Axes>"
            ]
          },
          "metadata": {
            "needs_background": "light"
          }
        }
      ]
    },
    {
      "cell_type": "code",
      "metadata": {
        "colab": {
          "base_uri": "https://localhost:8080/"
        },
        "id": "-gB6ov2AUWRJ",
        "outputId": "f4b20b8a-24c9-4d5a-89f7-19dbab3fbe17"
      },
      "source": [
        "test_loss, test_acc = model.evaluate(test_images, test_labels)\n",
        "\n",
        "print('Test accuracy:', test_acc)"
      ],
      "execution_count": null,
      "outputs": [
        {
          "output_type": "stream",
          "name": "stdout",
          "text": [
            "313/313 [==============================] - 2s 5ms/step - loss: 0.0411 - accuracy: 0.9938\n",
            "Test accuracy: 0.9937999844551086\n"
          ]
        }
      ]
    }
  ]
}